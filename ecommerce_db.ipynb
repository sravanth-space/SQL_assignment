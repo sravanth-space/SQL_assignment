{
 "cells": [
  {
   "cell_type": "code",
   "execution_count": null,
   "metadata": {},
   "outputs": [],
   "source": [
    "import numpy as np\n",
    "import pandas as pd\n",
    "from faker import Faker\n",
    "import random\n",
    "\n",
    "# Initialize Faker for generating realistic names, emails, etc.\n",
    "fake = Faker()\n",
    "\n",
    "# Number of samples\n",
    "n = 1000"
   ]
  },
  {
   "cell_type": "code",
   "execution_count": null,
   "metadata": {},
   "outputs": [],
   "source": [
    "# Generate Customer Data\n",
    "customer_ids = np.arange(1, n + 1)\n",
    "customers = [fake.name() for _ in range(n)]\n",
    "\n",
    "# Generate realistic emails with common domains\n",
    "email_domains = ['gmail.com', 'yahoo.com', 'hotmail.com', 'outlook.com']\n",
    "emails = [\n",
    "    f\"{name.replace(' ', '').lower()}@{random.choice(email_domains)}\" for name in customers]\n",
    "\n",
    "# Create customer data dictionary\n",
    "customer_data = {\n",
    "    'customer_id': customer_ids,\n",
    "    'customer_name': customers,\n",
    "    'email': emails,\n",
    "    'loyalty_points': np.random.randint(0, 1000, n)\n",
    "}\n",
    "\n",
    "# Create the Customers DataFrame\n",
    "df_customers = pd.DataFrame(customer_data)\n",
    "\n",
    "# Introduce Missing Data for `email` (Simulating customers without email)\n",
    "missing_email_indices = np.random.choice(\n",
    "    df_customers.index, size=50, replace=False)\n",
    "df_customers.loc[missing_email_indices, 'email'] = np.nan\n",
    "\n",
    "# Introduce Duplicate Data (Duplicate some customers)\n",
    "# Randomly sample 50 rows to duplicate\n",
    "duplicates = df_customers.sample(n=50, replace=True)\n",
    "df_customers = pd.concat([df_customers, duplicates])"
   ]
  },
  {
   "cell_type": "code",
   "execution_count": null,
   "metadata": {},
   "outputs": [],
   "source": [
    "# Generate Product Data (Create permutations of products and real brands)\n",
    "product_names = [\n",
    "    'Laptop', 'Smartphone', 'Tablet', 'Headphones', 'Smartwatch', 'TV', 'Washing Machine',\n",
    "    'Refrigerator', 'Shoes', 'T-shirt', 'Jeans', 'Jacket', 'Air Conditioner', 'Blender',\n",
    "    'Microwave', 'Couch', 'Desk Chair', 'Coffee Maker', 'Toaster'\n",
    "]\n",
    "product_brands = ['Apple', 'Samsung', 'Nike', 'Sony',\n",
    "                  'LG', 'Dell', 'Bosch', 'Philips', 'Nike', 'Adidas']\n",
    "\n",
    "# Create permutations of product names and brands\n",
    "products = []\n",
    "for product in product_names:\n",
    "    for brand in product_brands:\n",
    "        products.append((product, brand))\n",
    "\n",
    "# Now we have a list of (product, brand) pairs\n",
    "product_ids = np.arange(1, len(products) + 1)\n",
    "\n",
    "# Random price generation for each product\n",
    "product_price = np.random.uniform(50, 2000, len(products))\n",
    "\n",
    "# Random product ratings for each product\n",
    "product_rating = np.random.uniform(1, 5, len(products))\n",
    "\n",
    "# Creating the DataFrame with the products\n",
    "product_data = {\n",
    "    'product_id': product_ids,\n",
    "    'product_name': [item[0] for item in products],\n",
    "    'product_brand': [item[1] for item in products],\n",
    "    'product_price': product_price,\n",
    "    'product_rating': product_rating\n",
    "}\n",
    "\n",
    "df_products = pd.DataFrame(product_data)\n",
    "\n",
    "# Introduce Missing Data for `product_rating` (Simulating missing product ratings)\n",
    "missing_rating_indices = np.random.choice(\n",
    "    df_products.index, size=30, replace=False)\n",
    "df_products.loc[missing_rating_indices, 'product_rating'] = np.nan"
   ]
  },
  {
   "cell_type": "code",
   "execution_count": null,
   "metadata": {},
   "outputs": [],
   "source": [
    "# Generate Orders Data (Linking Customers to Products)\n",
    "# In the case of composite key, we'll use customer_id and product_id together as the primary key\n",
    "orders_data = {\n",
    "    'customer_id': np.random.choice(customer_ids, size=n),\n",
    "    'product_id': np.random.choice(product_ids, size=n),\n",
    "    'quantity': np.random.randint(1, 5, n),\n",
    "    'total_price': np.random.uniform(50, 2000, n),\n",
    "    'order_status': np.random.choice(['Pending', 'Shipped', 'Delivered', 'Returned'], n),\n",
    "    'feedback_rating': np.random.choice(['Very Satisfied', 'Satisfied', 'Neutral', 'Unsatisfied'], n, p=[0.4, 0.3, 0.2, 0.1])\n",
    "}\n",
    "\n",
    "# Make the `customer_id` and `product_id` the composite key\n",
    "df_orders = pd.DataFrame(orders_data)\n",
    "\n",
    "# Introduce Missing Data for `order_status` (Simulating missing statuses)\n",
    "missing_status_indices = np.random.choice(\n",
    "    df_orders.index, size=40, replace=False)\n",
    "df_orders.loc[missing_status_indices, 'order_status'] = np.nan\n",
    "\n",
    "# Introduce Duplicate Data for Orders (Simulate duplicate orders for the same product by the same customer)\n",
    "order_duplicates = df_orders.sample(n=30, replace=True)  # Duplicate 30 orders\n",
    "df_orders = pd.concat([df_orders, order_duplicates])"
   ]
  },
  {
   "cell_type": "code",
   "execution_count": null,
   "metadata": {},
   "outputs": [],
   "source": [
    "# Generate Shipping Data (Linking Orders to Shipping Details)\n",
    "shipping_ids = np.arange(1, n + 1)\n",
    "shipping_data = {\n",
    "    'shipping_id': shipping_ids,\n",
    "    'order_id': np.random.choice(df_orders.index, size=n),\n",
    "    'shipping_method': np.random.choice(['Standard', 'Expedited', 'Two-day'], size=n),\n",
    "    'shipping_cost': np.random.uniform(5, 50, n),\n",
    "    'discount_applied': np.random.uniform(0, 0.2, n)\n",
    "}\n",
    "df_shipping = pd.DataFrame(shipping_data)"
   ]
  },
  {
   "cell_type": "code",
   "execution_count": null,
   "metadata": {},
   "outputs": [],
   "source": [
    "\n",
    "# Generating Customer Behavior Data\n",
    "behavior_ids = np.arange(1, n + 1)\n",
    "behavior_data = {\n",
    "    'behavior_id': behavior_ids,\n",
    "    'customer_id': np.random.choice(customer_ids, size=n),\n",
    "    'cart_abandonment': np.random.choice([True, False], size=n),\n",
    "    'customer_segment': np.random.choice(['VIP', 'Regular', 'New User'], size=n)\n",
    "}\n",
    "df_behavior = pd.DataFrame(behavior_data)"
   ]
  },
  {
   "cell_type": "code",
   "execution_count": null,
   "metadata": {},
   "outputs": [],
   "source": [
    "# Exporting data to CSV files\n",
    "df_customers.to_csv(\n",
    "    'data/Customers.csv', index=False)\n",
    "df_products.to_csv('data/Products.csv', index=False)\n",
    "df_orders.to_csv(\n",
    "    'data/Orders.csv', index=False)\n",
    "df_shipping.to_csv('data/Shipping.csv', index=False)\n",
    "df_behavior.to_csv('data/CustomerBehavior.csv', index=False)"
   ]
  }
 ],
 "metadata": {
  "kernelspec": {
   "display_name": "Python 3",
   "language": "python",
   "name": "python3"
  },
  "language_info": {
   "codemirror_mode": {
    "name": "ipython",
    "version": 3
   },
   "file_extension": ".py",
   "mimetype": "text/x-python",
   "name": "python",
   "nbconvert_exporter": "python",
   "pygments_lexer": "ipython3",
   "version": "3.9.13"
  }
 },
 "nbformat": 4,
 "nbformat_minor": 2
}
